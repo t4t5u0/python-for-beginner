{
 "cells": [
  {
   "cell_type": "markdown",
   "metadata": {},
   "source": [
    "# 3 オブジェクト指向(仮)"
   ]
  },
  {
   "cell_type": "markdown",
   "metadata": {},
   "source": [
    "## 3.1 クラス\n",
    "\n",
    "Pythonにはクラスという概念があります。クラスには大きく2つの目的があります。1つ目は、コードを共通化することです。同じ属性を持った変数を用意したいことがあると思います。2つ目は、データと機能を組み合わせることです。新しいクラスを定義することは、新しい **型** を定義することと同じです。\n",
    "\n",
    "classの宣言について、単純な例を示します。"
   ]
  },
  {
   "cell_type": "code",
   "execution_count": null,
   "metadata": {},
   "outputs": [],
   "source": [
    "class TestClass:\n",
    "    def __init__(self, arg):\n",
    "        self.arg = arg\n",
    "        \n",
    "x = TestClass(\"hoge\")\n",
    "print(type(x))\n",
    "print(type(x.arg))\n",
    "print(x.arg)"
   ]
  },
  {
   "cell_type": "markdown",
   "metadata": {},
   "source": [
    "クラスの中で定義する関数のようなものをメソッドといいます。今回、`TestClass` の中では、`__init__` というメソッドが定義されています。`__init__`を特別に、コンストラクタといいます。`__init__` は、クラスを実際に生成するときに自動的に呼ばれます。変数 `x` をTestClassのインスタンスと呼びます。そしてインスタンスを作成することをインスタンス化といいます。実際に`type`関数でxの型を確認してみましょう。TestClassと出力されたはずです。ところで、`__init__` は引数を2つとっています。1つめはselfです。しかし、これはインスタンス化する際には使っていないように見えます。実はこのselfという変数はインスタンス自身を表しています。\n",
    "\n",
    "```python\n",
    "self.arg = arg\n",
    "```\n",
    "\n",
    "\n",
    "これは、selfのargに引数として渡されたargを代入しているのです。クラスの中では、selfを使いますが、インスタンス化した `x` では、`x.arg` として呼び出しています。`TestClass` は任意の引数を1つ受け取ります。色々変えて確かめてみましょう "
   ]
  },
  {
   "cell_type": "code",
   "execution_count": null,
   "metadata": {},
   "outputs": [],
   "source": [
    "class TestClass:\n",
    "    def __init__(self, arg):\n",
    "        self.arg = arg\n",
    "        \n",
    "x = TestClass('aaa')\n",
    "print(type(x))\n",
    "print(type(x.arg))\n",
    "print(x.arg)"
   ]
  },
  {
   "cell_type": "markdown",
   "metadata": {},
   "source": [
    "classの例をあげます\n",
    "長方形クラスを作ります。"
   ]
  },
  {
   "cell_type": "code",
   "execution_count": null,
   "metadata": {},
   "outputs": [],
   "source": [
    "class Rectangle:\n",
    "    def __init__(self, h, w):\n",
    "        self.h = h\n",
    "        self.w = w\n",
    "    \n",
    "    def area(self):\n",
    "        return self.h * self.w\n",
    "    \n",
    "    def diagnal(self):\n",
    "        return (self.w**2 + self.h**2)**(1/2)"
   ]
  },
  {
   "cell_type": "code",
   "execution_count": null,
   "metadata": {},
   "outputs": [],
   "source": [
    "x = Rectangle(3, 5)\n",
    "print(x.area())\n",
    "print(x.diagnal())"
   ]
  },
  {
   "cell_type": "markdown",
   "metadata": {},
   "source": [
    "演習1  \n",
    "1. 円クラスを宣言してください。初期化するときに、引数に半径を取ってください。\n",
    "2. 円クラスに面積を求めるメソッドを追加してください。ただし、円周率は `3.14` としてください\n",
    "3. 半径が1の円をインスタンス化してください\n",
    "4. 半径が3の円をインスタンス化してください\n",
    "5. 円クラスに独自メソッドを実装してください"
   ]
  },
  {
   "cell_type": "code",
   "execution_count": null,
   "metadata": {},
   "outputs": [],
   "source": []
  }
 ],
 "metadata": {
  "kernelspec": {
   "display_name": "Python 3",
   "language": "python",
   "name": "python3"
  },
  "language_info": {
   "codemirror_mode": {
    "name": "ipython",
    "version": 3
   },
   "file_extension": ".py",
   "mimetype": "text/x-python",
   "name": "python",
   "nbconvert_exporter": "python",
   "pygments_lexer": "ipython3",
   "version": "3.9.1"
  }
 },
 "nbformat": 4,
 "nbformat_minor": 4
}
