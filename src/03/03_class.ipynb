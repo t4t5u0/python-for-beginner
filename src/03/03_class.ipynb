{
 "cells": [
  {
   "cell_type": "markdown",
   "metadata": {},
   "source": [
    "# 3 オブジェクト指向(仮)"
   ]
  },
  {
   "cell_type": "markdown",
   "metadata": {},
   "source": [
    "## 3.1 クラス\n",
    "\n",
    "Pythonにはクラスという概念があります。クラスには大きく2つの目的があります。1つ目は、コードを共通化することです。同じ属性を持った変数を用意したいことがあると思います。2つ目は、データと機能を組み合わせることです。新しいクラスを定義することは、新しい **型** を定義することと同じです。クラスはしばしば設計図と例えられます。設計図(クラス)をもとにインスタンス(実際のデータ)を作り出すからです\n",
    "\n",
    "classの宣言について、単純な例を示します。"
   ]
  },
  {
   "cell_type": "code",
   "execution_count": 158,
   "metadata": {},
   "outputs": [
    {
     "name": "stdout",
     "output_type": "stream",
     "text": [
      "<class '__main__.TestClass'>\n",
      "<class 'str'>\n",
      "hoge\n"
     ]
    }
   ],
   "source": [
    "class TestClass:\n",
    "    def __init__(self, arg):\n",
    "        self.arg = arg\n",
    "        \n",
    "x = TestClass(\"hoge\")\n",
    "print(type(x))\n",
    "print(type(x.arg))\n",
    "print(x.arg)"
   ]
  },
  {
   "cell_type": "markdown",
   "metadata": {},
   "source": [
    "クラスの中で定義する関数のようなものをメソッドといいます。今回、`TestClass` の中では、`__init__` というメソッドが定義されています。`__init__`を特別に、コンストラクタといいます。`__init__` は、クラスを実際に生成するときに自動的に呼ばれます。変数 `x` をTestClassのインスタンスと呼びます。そしてインスタンスを作成することをインスタンス化といいます。実際に`type`関数でxの型を確認してみましょう。TestClassと出力されたはずです。ところで、`__init__` は引数を2つとっています。1つめはselfです。しかし、これはインスタンス化する際には使っていないように見えます。実はこのselfという変数はインスタンス自身を表しています。\n",
    "\n",
    "```python\n",
    "self.arg = arg\n",
    "```\n",
    "\n",
    "\n",
    "これは、selfのargに引数として渡されたargを代入しているのです。クラスの中では、selfを使いますが、インスタンス化した `x` では、`x.arg` として呼び出しています。`TestClass` は任意の引数を1つ受け取ります。色々変えて確かめてみましょう "
   ]
  },
  {
   "cell_type": "code",
   "execution_count": 159,
   "metadata": {},
   "outputs": [
    {
     "name": "stdout",
     "output_type": "stream",
     "text": [
      "<class '__main__.TestClass'>\n",
      "<class 'int'>\n",
      "132\n"
     ]
    }
   ],
   "source": [
    "class TestClass:\n",
    "    def __init__(self, arg):\n",
    "        self.arg = arg\n",
    "        \n",
    "x = TestClass(132)\n",
    "print(type(x))\n",
    "print(type(x.arg))\n",
    "print(x.arg)"
   ]
  },
  {
   "cell_type": "markdown",
   "metadata": {},
   "source": [
    "classの例をあげます\n",
    "長方形クラスを作ります。"
   ]
  },
  {
   "cell_type": "code",
   "execution_count": 26,
   "metadata": {},
   "outputs": [],
   "source": [
    "class Rectangle:\n",
    "    def __init__(self, h, w):\n",
    "        self.h = h\n",
    "        self.w = w\n",
    "    \n",
    "    def area(self):\n",
    "        return self.h * self.w\n",
    "    \n",
    "    def diagnal(self):\n",
    "        return (self.w**2 + self.h**2)**(1/2)"
   ]
  },
  {
   "cell_type": "code",
   "execution_count": 27,
   "metadata": {},
   "outputs": [
    {
     "name": "stdout",
     "output_type": "stream",
     "text": [
      "15\n",
      "5.830951894845301\n"
     ]
    }
   ],
   "source": [
    "x = Rectangle(3, 5)\n",
    "print(x.area())\n",
    "print(x.diagnal())"
   ]
  },
  {
   "cell_type": "markdown",
   "metadata": {},
   "source": [
    "演習1  \n",
    "1. 円クラスを宣言してください。初期化するときに、引数に半径を取ってください。\n",
    "2. 円クラスに面積を求めるメソッドを実装してください。ただし、円周率は `3.14` としてください。(引数なしでself.pi を宣言する)\n",
    "3. 半径が1の円をインスタンス化してください\n",
    "4. 半径が3の円をインスタンス化してください\n",
    "5. 円クラスに独自メソッドを実装してください"
   ]
  },
  {
   "cell_type": "code",
   "execution_count": 56,
   "metadata": {},
   "outputs": [],
   "source": [
    "class Circle:\n",
    "    def __init__(self, r):\n",
    "        self.r = r\n",
    "        self.pi = 3.14\n",
    "    \n",
    "    def area(self):\n",
    "        return self.r**2 * self.pi"
   ]
  },
  {
   "cell_type": "code",
   "execution_count": 57,
   "metadata": {},
   "outputs": [
    {
     "name": "stdout",
     "output_type": "stream",
     "text": [
      "3.14\n"
     ]
    }
   ],
   "source": [
    "x = Circle(1)\n",
    "print(x.area())"
   ]
  },
  {
   "cell_type": "code",
   "execution_count": 68,
   "metadata": {
    "tags": []
   },
   "outputs": [
    {
     "name": "stdout",
     "output_type": "stream",
     "text": [
      "28.26\n"
     ]
    }
   ],
   "source": [
    "circle = Circle(3)\n",
    "print(circle.area())"
   ]
  },
  {
   "cell_type": "markdown",
   "metadata": {},
   "source": [
    "演習2\n",
    "1. 円柱クラスを宣言してください。コンストラクタの引数は、底面の半径と高さとしてください\n",
    "2. 円柱クラスに体積を求めるメソッドを追加してください。ヒント：底面は円なので、円クラスを使えるかも\n",
    "3. 円柱クラスをインスタンス化してください\n",
    "4. 円柱クラスに表面積を表すメソッドを実装してください\n",
    "5. 円柱クラスに独自メソッドを実装してください"
   ]
  },
  {
   "cell_type": "code",
   "execution_count": 156,
   "metadata": {},
   "outputs": [],
   "source": [
    "class Cylinder:\n",
    "    def __init__(self,h,r):\n",
    "        self.h = h\n",
    "        self.r = r\n",
    "        self.bottom = Circle(self.r)\n",
    "        \n",
    "    def voulume(self):\n",
    "        return self.h * self.bottom.area()"
   ]
  },
  {
   "cell_type": "code",
   "execution_count": 157,
   "metadata": {},
   "outputs": [
    {
     "name": "stdout",
     "output_type": "stream",
     "text": [
      "235.5\n"
     ]
    }
   ],
   "source": [
    "cylinder = Cylinder(3,5)\n",
    "\n",
    "print(cylinder.voulume())"
   ]
  },
  {
   "cell_type": "markdown",
   "metadata": {},
   "source": [
    "円クラスをどのように使えばいいか分からなかった\n"
   ]
  }
 ],
 "metadata": {
  "kernelspec": {
   "display_name": "Python 3",
   "language": "python",
   "name": "python3"
  },
  "language_info": {
   "codemirror_mode": {
    "name": "ipython",
    "version": 3
   },
   "file_extension": ".py",
   "mimetype": "text/x-python",
   "name": "python",
   "nbconvert_exporter": "python",
   "pygments_lexer": "ipython3",
   "version": "3.9.1"
  }
 },
 "nbformat": 4,
 "nbformat_minor": 4
}
