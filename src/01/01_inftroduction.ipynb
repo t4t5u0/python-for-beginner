{
 "cells": [
  {
   "cell_type": "markdown",
   "metadata": {},
   "source": [
    "# 1 基本的なPythonの文法\n",
    "\n",
    "リボン左の`+` ボタンを押してセルを追加できます。  \n",
    "セルの種類がCodeの場合はPythonのコードを  \n",
    "Markdownの場合はMarkdown形式でメモを取ることができます。自由に活用してください"
   ]
  },
  {
   "cell_type": "markdown",
   "metadata": {},
   "source": [
    "## 1.1 電卓としてのPython\n",
    "\n",
    "Pythonの1番簡単な例は、電卓として使うことです。  \n",
    "サポートされている主な演算子は以下のものです。\n",
    "\n",
    "| 演算子 | 意味         |\n",
    "| :----: | :----------- |\n",
    "|   +    | 足し算       |\n",
    "|   -    | 引き算       |\n",
    "|   *    | 掛け算       |\n",
    "|   /    | 割り算       |\n",
    "|   //   | 切り捨て除算 |\n",
    "|   %    | 剰余(あまり) |\n",
    "|   **   | べき乗       |"
   ]
  },
  {
   "cell_type": "code",
   "execution_count": null,
   "metadata": {},
   "outputs": [],
   "source": [
    "代入演算子忘れてる\n",
    "等価演算子忘れてる"
   ]
  },
  {
   "cell_type": "code",
   "execution_count": null,
   "metadata": {},
   "outputs": [],
   "source": [
    "セルが何かわからなかった"
   ]
  },
  {
   "cell_type": "code",
   "execution_count": null,
   "metadata": {
    "tags": []
   },
   "outputs": [],
   "source": [
    "# セルにカーソルが入っている状態でshift + enter を押下するとセルを実行できます\n",
    "# print() で囲むと出力できます\n",
    "# シャープ以降の文字列はコメントとして扱われ実行されません\n",
    "# シャープはctrl + / で1行をコメントアウトできます\n",
    "print(1+2+3-4+5+6+78+9)\n",
    "print(123-45-67+89) \n",
    "print(1*2*3*4+5+6+7*8+9)\n",
    "print(123+4-5+67-89)"
   ]
  },
  {
   "cell_type": "code",
   "execution_count": 1,
   "metadata": {},
   "outputs": [
    {
     "name": "stdout",
     "output_type": "stream",
     "text": [
      "6\n"
     ]
    }
   ],
   "source": [
    "# 演習1\n",
    "# 遊んでみよう\n",
    "print(1+2+3)"
   ]
  },
  {
   "cell_type": "markdown",
   "metadata": {},
   "source": [
    "## 1.2 変数と型"
   ]
  },
  {
   "cell_type": "markdown",
   "metadata": {},
   "source": [
    "ほとんどのプログラミング言語にはデータ型(また、単に型)というシステムがあります。最初はありがたみに気づきにくいかもしれませんが、きっとこのシステムの素晴らしさに気づくはずです。Pythonでは、文字列を`\"`、また、`'`で囲むことで表します。以下のセルを実行してみてください。"
   ]
  },
  {
   "cell_type": "code",
   "execution_count": 2,
   "metadata": {},
   "outputs": [
    {
     "name": "stdout",
     "output_type": "stream",
     "text": [
      "1 <class 'int'>\n",
      "1 <class 'str'>\n"
     ]
    }
   ],
   "source": [
    "print(1, type(1))\n",
    "print(\"1\", type(\"1\"))"
   ]
  },
  {
   "cell_type": "markdown",
   "metadata": {},
   "source": [
    "`type` はあるデータの型を調べる関数です(関数については後述します)。Pythonには色々な型があります。以下にいくつかの例を示します。これらは、Pythonが標準で用意したもので、プリミティブ(原始的な)型と呼ばれます。\n",
    "\n",
    "| 型名  |        例 |\n",
    "| :---- | --------: |\n",
    "| int   |        -1 |\n",
    "| float |       1.0 |\n",
    "| str   |       \"1\" |\n",
    "| bool  |      True |\n",
    "| list  | [1, 1, 1] |\n",
    "|dict| {\"key\" : value} |\n",
    "\n",
    "以下に型のありがたみを感じられる例を示します。セルを実行する前に結果を予想してみてください。"
   ]
  },
  {
   "cell_type": "code",
   "execution_count": null,
   "metadata": {},
   "outputs": [],
   "source": [
    "型名の説明が欲しい"
   ]
  },
  {
   "cell_type": "code",
   "execution_count": 3,
   "metadata": {},
   "outputs": [
    {
     "name": "stdout",
     "output_type": "stream",
     "text": [
      "2\n",
      "11\n"
     ]
    },
    {
     "ename": "TypeError",
     "evalue": "unsupported operand type(s) for +: 'int' and 'str'",
     "output_type": "error",
     "traceback": [
      "\u001b[0;31m----------------------------------------------------------------\u001b[0m",
      "\u001b[0;31mTypeError\u001b[0m                      Traceback (most recent call last)",
      "\u001b[0;32m<ipython-input-3-d394430813c7>\u001b[0m in \u001b[0;36m<module>\u001b[0;34m\u001b[0m\n\u001b[1;32m      4\u001b[0m \u001b[0mprint\u001b[0m\u001b[0;34m(\u001b[0m\u001b[0;34m\"1\"\u001b[0m \u001b[0;34m+\u001b[0m \u001b[0;34m\"1\"\u001b[0m\u001b[0;34m)\u001b[0m\u001b[0;34m\u001b[0m\u001b[0;34m\u001b[0m\u001b[0m\n\u001b[1;32m      5\u001b[0m \u001b[0;31m# int + str\u001b[0m\u001b[0;34m\u001b[0m\u001b[0;34m\u001b[0m\u001b[0;34m\u001b[0m\u001b[0m\n\u001b[0;32m----> 6\u001b[0;31m \u001b[0mprint\u001b[0m\u001b[0;34m(\u001b[0m\u001b[0;36m1\u001b[0m \u001b[0;34m+\u001b[0m \u001b[0;34m\"1\"\u001b[0m\u001b[0;34m)\u001b[0m\u001b[0;34m\u001b[0m\u001b[0;34m\u001b[0m\u001b[0m\n\u001b[0m",
      "\u001b[0;31mTypeError\u001b[0m: unsupported operand type(s) for +: 'int' and 'str'"
     ]
    }
   ],
   "source": [
    "# int + int\n",
    "print(1 + 1)\n",
    "# str + str\n",
    "print(\"1\" + \"1\")\n",
    "# int + str\n",
    "print(1 + \"1\")"
   ]
  },
  {
   "cell_type": "markdown",
   "metadata": {},
   "source": [
    "つい先程データの型についての話をしましたが、このままでは、計算した結果を値を保存できません。プログラム内でデータに名前をつけて拘束するシステムが変数です。Pythonは基本的に変数の宣言と代入を同時に行います。最も単純な例を示します。"
   ]
  },
  {
   "cell_type": "code",
   "execution_count": null,
   "metadata": {},
   "outputs": [],
   "source": [
    "name = \"value\"\n",
    "print(name)"
   ]
  },
  {
   "cell_type": "code",
   "execution_count": 5,
   "metadata": {},
   "outputs": [
    {
     "name": "stdout",
     "output_type": "stream",
     "text": [
      "value\n"
     ]
    }
   ],
   "source": [
    "# 型ヒントを使って型を明示することもできます(残念なことに強制力はないです)\n",
    "name: str = \"value\"\n",
    "print(name)"
   ]
  },
  {
   "cell_type": "markdown",
   "metadata": {},
   "source": [
    "## 1.3 リスト\n",
    "あなたは変数という概念を用いて、データを名前に紐づけて保存する方法を学びました。例えばコーヒー豆の産地を列挙したいと考えます。例えば今までの知識では、"
   ]
  },
  {
   "cell_type": "code",
   "execution_count": 6,
   "metadata": {},
   "outputs": [
    {
     "name": "stdout",
     "output_type": "stream",
     "text": [
      "コロンビア ガテマラ ペルー\n"
     ]
    }
   ],
   "source": [
    "coffee_from_1 = \"コロンビア\"\n",
    "coffee_from_2 = \"ガテマラ\"\n",
    "coffee_from_3 = \"ペルー\"\n",
    "print(coffee_from_1, coffee_from_2, coffee_from_3)"
   ]
  },
  {
   "cell_type": "markdown",
   "metadata": {},
   "source": [
    "とする方法が考えられます。しかし、これは賢い方法には思えません。そこで使うのが list型 です。`[ ]` の中に、要素を列挙してひとまとめにすることができます。要素は任意のデータを対象にできます。もちろん空のデータも。"
   ]
  },
  {
   "cell_type": "code",
   "execution_count": 7,
   "metadata": {},
   "outputs": [
    {
     "name": "stdout",
     "output_type": "stream",
     "text": [
      "['コロンビア', 'ガテマラ', 'ペルー']\n"
     ]
    }
   ],
   "source": [
    "coffee_from = [\"コロンビア\", \"ガテマラ\", \"ペルー\"]\n",
    "print(coffee_from)"
   ]
  },
  {
   "cell_type": "markdown",
   "metadata": {},
   "source": [
    "listの要素にlistを適用することができます。これを2次元リストといいます。通常のリストは1次元リストと言い換えることができます。また、同様にn次元リストが定義されます"
   ]
  },
  {
   "cell_type": "code",
   "execution_count": 1,
   "metadata": {},
   "outputs": [],
   "source": [
    "mahoujin = [[8, 1, 6], [3, 5 ,7], [4, 9, 2]]\n",
    "# print(mahoujin)\n",
    "# for item in mahoujin:\n",
    "#     print(item)"
   ]
  },
  {
   "cell_type": "markdown",
   "metadata": {},
   "source": [
    "## 1.4 標準入出力\n",
    "出力を行う関数は、上でさんざん使用した `print()` です。  \n",
    "与えられた値を改行ありで出力します。\n",
    "\n",
    "入力を行う関数は `input()` です。とりあえず叩いて見ましょう"
   ]
  },
  {
   "cell_type": "code",
   "execution_count": 2,
   "metadata": {},
   "outputs": [
    {
     "name": "stdin",
     "output_type": "stream",
     "text": [
      " 1\n"
     ]
    },
    {
     "name": "stdout",
     "output_type": "stream",
     "text": [
      "1\n"
     ]
    }
   ],
   "source": [
    "# x という変数にinput() の返り値を代入してください\n",
    "x = input()\n",
    "# x を出力してください\n",
    "print(x)"
   ]
  },
  {
   "cell_type": "markdown",
   "metadata": {},
   "source": [
    "ところで、次のコードの結果はどうなるでしょうか。z の結果を予測してみてください。また、どうしたら望んだ結果になるでしょうか"
   ]
  },
  {
   "cell_type": "code",
   "execution_count": 3,
   "metadata": {},
   "outputs": [
    {
     "name": "stdin",
     "output_type": "stream",
     "text": [
      " 1\n",
      " 3\n"
     ]
    },
    {
     "name": "stdout",
     "output_type": "stream",
     "text": [
      "1 3 13\n"
     ]
    }
   ],
   "source": [
    "x = input()\n",
    "y = input()\n",
    "z = x + y\n",
    "print(x, y, z)"
   ]
  },
  {
   "cell_type": "code",
   "execution_count": 1,
   "metadata": {},
   "outputs": [
    {
     "name": "stdin",
     "output_type": "stream",
     "text": [
      " 山本\n",
      " 敦申\n"
     ]
    },
    {
     "name": "stdout",
     "output_type": "stream",
     "text": [
      "山本敦申\n"
     ]
    }
   ],
   "source": [
    "# 演習\n",
    "# あなたの苗字を family_name という変数に\n",
    "# 名前を last_name という変数にそれぞれ標準入力から入力、代入します\n",
    "# name という変数に、苗字と名前を結合して出力してください\n",
    "family_name = input()\n",
    "last_name = input()\n",
    "name = family_name + last_name\n",
    "print(name)"
   ]
  },
  {
   "cell_type": "markdown",
   "metadata": {},
   "source": [
    "## 1.5 関数\n",
    "あなたは恐らく数学で関数を習ったはずです。例えば、\"x が1つに決まると y がただ1つに決まる関係\" という定義。また、集合論から定義するならば、\"ある集合の元(要素)を別の集合の元に対応付ける規則\"のことです。プログラミングの文脈での関数とは、後者に近いものです。ここでは、**任意個の引数(ひきすう)を受け取り、何らかの処理を行い、任意個の返り値を返すもの** としておきましょう。例えば、先程でてきた `input()` は、0個の引数、または、1つのstr型の引数を受け取り、受け取った文字列を、1つのstr型の値として返します。これをPython風に書くと、`input(Option[str]) -> str` です。Optionはあってもなくてもいいという意味です。実際に動かしてみてみましょう"
   ]
  },
  {
   "cell_type": "code",
   "execution_count": 2,
   "metadata": {},
   "outputs": [
    {
     "name": "stdin",
     "output_type": "stream",
     "text": [
      " あああ\n"
     ]
    },
    {
     "name": "stdout",
     "output_type": "stream",
     "text": [
      "あああ\n"
     ]
    },
    {
     "name": "stdin",
     "output_type": "stream",
     "text": [
      "this is input: ああい\n"
     ]
    },
    {
     "name": "stdout",
     "output_type": "stream",
     "text": [
      "ああい\n"
     ]
    }
   ],
   "source": [
    "# input() -> str\n",
    "print(input())\n",
    "\n",
    "# input(str) -> str\n",
    "print(input(\"this is input:\"))"
   ]
  },
  {
   "cell_type": "markdown",
   "metadata": {},
   "source": [
    "ここで、1.4 で紹介したinput()の返り値同士の足し算を考えてみましょう。あなたはすでにinputの返り値がstrであることを知っています。これを整数、つまりint型として扱いたいときはどうしたらいいでしょうか。これのために便利な仕組みが用意されています。**型キャスト** (また、単にキャスト) というものです。str型のデータをint型のデータに変換するのは簡単です。`int()` という関数を使います。"
   ]
  },
  {
   "cell_type": "code",
   "execution_count": 5,
   "metadata": {},
   "outputs": [
    {
     "name": "stdout",
     "output_type": "stream",
     "text": [
      "12\n",
      "3\n"
     ]
    }
   ],
   "source": [
    "x = \"1\"\n",
    "y = \"2\"\n",
    "print(x + y)\n",
    "\n",
    "# x, yをそれぞれint型にキャストして、3が出力されるように変更しましょう\n",
    "int(x)\n",
    "int(y)\n",
    "print(int(x) + int(y))"
   ]
  },
  {
   "cell_type": "markdown",
   "metadata": {},
   "source": [
    "## 1.6 関数定義\n",
    "Pythonはすでに用意された関数がたくさんありますが、私達ユーザが独自に関数を定義することもできます。構文は、\n",
    "```python\n",
    "def 関数名(仮引数):\n",
    "    処理\n",
    "    return 返り値\n",
    "```\n",
    "です。型ヒントを用いた完全なパターンは\n",
    "```python\n",
    "def 関数名(仮引数1: 仮引数1の型, 仮引数2: 仮引数2の型 ...) -> 返り値の型:\n",
    "    処理\n",
    "    return 返り値\n",
    "```\n",
    "個人的には、型ヒントを用いた方を推奨します"
   ]
  },
  {
   "cell_type": "code",
   "execution_count": 6,
   "metadata": {},
   "outputs": [
    {
     "name": "stdout",
     "output_type": "stream",
     "text": [
      "6\n"
     ]
    }
   ],
   "source": [
    "# int 型の引数を1つ受け取り、2倍にして返す関数\n",
    "def twice(n: int) -> int:\n",
    "    return 2 * n\n",
    "\n",
    "print(twice(3))"
   ]
  },
  {
   "cell_type": "code",
   "execution_count": 14,
   "metadata": {},
   "outputs": [
    {
     "name": "stdout",
     "output_type": "stream",
     "text": [
      "山田太郎\n"
     ]
    }
   ],
   "source": [
    "# 演習\n",
    "# str型のfamily と lastという仮引数を受け取り、間に空白を入れながら結合して返す関数を定義してください\n",
    "def name(family: str, last: str) -> str:\n",
    "    return family + last\n",
    "print(name('山田', '太郎'))"
   ]
  },
  {
   "cell_type": "code",
   "execution_count": null,
   "metadata": {},
   "outputs": [],
   "source": []
  },
  {
   "cell_type": "markdown",
   "metadata": {},
   "source": [
    "## 1.7 エラー\n",
    "\n",
    "エラーの読み方\n",
    "例えば以下のコードはエラーになります"
   ]
  },
  {
   "cell_type": "code",
   "execution_count": 15,
   "metadata": {},
   "outputs": [
    {
     "ename": "TypeError",
     "evalue": "unsupported operand type(s) for +: 'int' and 'str'",
     "output_type": "error",
     "traceback": [
      "\u001b[0;31m----------------------------------------------------------------\u001b[0m",
      "\u001b[0;31mTypeError\u001b[0m                      Traceback (most recent call last)",
      "\u001b[0;32m<ipython-input-15-b8e4c70f2041>\u001b[0m in \u001b[0;36m<module>\u001b[0;34m\u001b[0m\n\u001b[0;32m----> 1\u001b[0;31m \u001b[0mprint\u001b[0m\u001b[0;34m(\u001b[0m\u001b[0;36m1\u001b[0m \u001b[0;34m+\u001b[0m \u001b[0;34m\"1\"\u001b[0m\u001b[0;34m)\u001b[0m\u001b[0;34m\u001b[0m\u001b[0;34m\u001b[0m\u001b[0m\n\u001b[0m",
      "\u001b[0;31mTypeError\u001b[0m: unsupported operand type(s) for +: 'int' and 'str'"
     ]
    }
   ],
   "source": [
    "print(1 + \"1\")"
   ]
  },
  {
   "cell_type": "markdown",
   "metadata": {},
   "source": [
    "```\n",
    "---------------------------------------------------------------------------\n",
    "TypeError                                 Traceback (most recent call last)\n",
    "<ipython-input-5-b8e4c70f2041> in <module>\n",
    "----> 1 print(1 + \"1\")\n",
    "\n",
    "TypeError: unsupported operand type(s) for +: 'int' and 'str'   \n",
    "```\n",
    "\n",
    "などと言われたはずです。英語を読むとエラーが発生した行数と何が悪いかが書かれています。今回は、TypeError つまり型に関するエラーですね。int と str の足し算は定義されていないです。と怒られているのです。エラーが発生しないプログラムを書くことは大切ですが、どうしてもエラーが発生する可能性があるプログラムを書かなければいけなくなります。このときに、エラーのキャッチを行います。"
   ]
  },
  {
   "cell_type": "code",
   "execution_count": 16,
   "metadata": {},
   "outputs": [
    {
     "name": "stdout",
     "output_type": "stream",
     "text": [
      "unsupported operand type(s) for +: 'int' and 'str'\n"
     ]
    }
   ],
   "source": [
    "try:\n",
    "    # エラーが発生する可能性があるプログラムをここに\n",
    "    x = 1 + \"1\"\n",
    "# キャッチしたいエラーの種類\n",
    "except TypeError as e:\n",
    "    # キャッチしたときの処理 \n",
    "    print(e)"
   ]
  },
  {
   "cell_type": "markdown",
   "metadata": {},
   "source": [
    "## 1.8 章末問題"
   ]
  },
  {
   "cell_type": "markdown",
   "metadata": {},
   "source": [
    "以下余白"
   ]
  }
 ],
 "metadata": {
  "kernelspec": {
   "display_name": "Python 3",
   "language": "python",
   "name": "python3"
  },
  "language_info": {
   "codemirror_mode": {
    "name": "ipython",
    "version": 3
   },
   "file_extension": ".py",
   "mimetype": "text/x-python",
   "name": "python",
   "nbconvert_exporter": "python",
   "pygments_lexer": "ipython3",
   "version": "3.9.1"
  },
  "toc-autonumbering": false,
  "toc-showmarkdowntxt": false
 },
 "nbformat": 4,
 "nbformat_minor": 4
}
