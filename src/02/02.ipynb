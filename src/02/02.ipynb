{
 "cells": [
  {
   "cell_type": "markdown",
   "metadata": {},
   "source": [
    "# 2 制御構文\n"
   ]
  },
  {
   "cell_type": "markdown",
   "metadata": {},
   "source": [
    "## 2.1 bool型のデータ\n",
    "\n",
    "あるかないか、1か0か、オンかオフか、TrueかFalseか、真か偽か。など、2つの状態を表すためのデータ型を**bool型** といいます。bool型は2つの値から成り立ちます。 **True** と **False** です。\n",
    "bool型の変数には、整数や浮動小数点数とは違った演算がサポートされています。これを特にbool演算といいます。これらの演算結果はbool型になります\n",
    "\n",
    "| 演算子 | 意味         |\n",
    "| :----: | :----------- |\n",
    "|   and    | AND       |\n",
    "|   or    | OR       |\n",
    "|   not    | NOT       |\n",
    "\n",
    "|   X   |   Y   | X and Y |\n",
    "| :---: | :---: | :-----: |\n",
    "| False | False |  False  |\n",
    "| False | True  |  False  |\n",
    "| True  | False |  False  |\n",
    "| True  | True  |  True   |\n",
    "\n",
    "\n",
    "|   X   |   Y   | X or Y |\n",
    "| :---: | :---: | :----: |\n",
    "| False | False | False  |\n",
    "| False | True  |  True  |\n",
    "| True  | False |  True  |\n",
    "| True  | True  |  True  |\n",
    "\n",
    "|   X   | not X |\n",
    "| :---: | :---: |\n",
    "| False | True  |\n",
    "| True  | False |"
   ]
  },
  {
   "cell_type": "code",
   "execution_count": null,
   "metadata": {},
   "outputs": [],
   "source": [
    "# 3つの演算子とTrue, False を使って遊んでみよう\n"
   ]
  },
  {
   "cell_type": "markdown",
   "metadata": {},
   "source": [
    "あるデータをbool型にキャストするとどうなるか、確認してみましょう。Pythonでは、0, None, \"\", \\[\\] Falseと評価されます。その他のほとんどの値はTrueと評価されます。"
   ]
  },
  {
   "cell_type": "code",
   "execution_count": 2,
   "metadata": {},
   "outputs": [
    {
     "name": "stdout",
     "output_type": "stream",
     "text": [
      "True False True True\n",
      "True False False True\n"
     ]
    }
   ],
   "source": [
    "# 例\n",
    "print(bool(-1), bool(0), bool(1), bool(2))\n",
    "# 他のデータで確かめてみましょう\n",
    "print(bool(5),bool(0),bool(0),bool(8))"
   ]
  },
  {
   "cell_type": "markdown",
   "metadata": {},
   "source": [
    "Pythonには、2つのデータを比較する演算子があります。これらをまとめて比較演算子といいます。返り値がbool型の2項演算子です\n",
    "\n",
    "| 演算子 |  意味  |\n",
    "| :----: | :----: |\n",
    "|   ==   |  等価  |\n",
    "|   !=   | 非等価 |\n",
    "|   <    |  超過  |\n",
    "|   <=   |  以上  |\n",
    "|   >    |  未満  |\n",
    "|   >=   |  以下  |\n",
    "\n",
    "ある数 $n$ が3以上かつ5未満であることを確かめるには、  \n",
    "```python\n",
    "3 <= n and n < 5\n",
    "```\n",
    "というコードが考えられます。加えて、Pythonでは、\n",
    "```python\n",
    "3 <= n < 5\n",
    "```\n",
    "のように表すことができます。これは後述するifやwhileの条件式に用いられます"
   ]
  },
  {
   "cell_type": "code",
   "execution_count": null,
   "metadata": {},
   "outputs": [],
   "source": [
    "fの説明"
   ]
  },
  {
   "cell_type": "code",
   "execution_count": null,
   "metadata": {},
   "outputs": [],
   "source": [
    "インデントについて詳しい説明を追加\n",
    "関数定義にもインデントの説明を追加"
   ]
  },
  {
   "cell_type": "code",
   "execution_count": null,
   "metadata": {},
   "outputs": [],
   "source": [
    "処理とは何かを命じて欲しい"
   ]
  },
  {
   "cell_type": "markdown",
   "metadata": {},
   "source": [
    "## 2.2 if文\n",
    "Pythonには条件によって実行する処理を切り替える(**条件分岐**)ために、if文という構文が用意されています。if文は、1つのifブロック、0個以上のelifブロックと1つまたは0個のelseブロックから構成されます。if文は上から実行され、式がTrueになったブロックを実行して終了します。すべての条件式がFalseになるとき、elseブロックを実行して終了します。Pythonでは、あるブロックをインデント(通常は4つの半角スペース)で管理します。インデントが崩れるとエラーとなります。条件式をbool型にキャスト必要はありません。よく使うので、キャストしなくてもいいようになっています。また、if文は処理なので、当然関数定義などの**処理**として使うことができます。\n",
    "\n",
    "最も単純な例\n",
    "```python\n",
    "if 条件式:\n",
    "    条件式がTrueと評価されたときの処理\n",
    "```\n",
    "\n",
    "elseブロックを追加した例\n",
    "```python\n",
    "if 条件式:\n",
    "    条件式がTrueと評価されたときの処理\n",
    "else:\n",
    "    条件式がFalseと評価されたときの処理\n",
    "```\n",
    "\n",
    "1つのelifブロックとelseブロックを追加した例\n",
    "```python\n",
    "if 条件式1:\n",
    "    条件式1がTrueと評価されたときの処理\n",
    "elif 条件式2:\n",
    "    条件式1がFalseと評価され、条件式2がTrueと評価されたときの処理\n",
    "else:\n",
    "    すべての条件式がFalseと評価されたときの処理\n",
    "```\n",
    "\n",
    "ifをネスト(入れ子に)する例  \n",
    "if文はそれ自体が処理であるから、if文の中にif文を含めることができます。これは、forなどのループや関数定義でも、同じことが言えます\n",
    "```python\n",
    "if 条件式1:\n",
    "    if 条件式2:\n",
    "        条件式1と条件式2がTrueと評価されたときの処理\n",
    "    条件式1がTrueと評価されたときの処理\n",
    "else:\n",
    "    条件式1がFalseと評価されたときの処理。条件式2がTrueかFalseかは関係ないことに注意\n",
    "```"
   ]
  },
  {
   "cell_type": "code",
   "execution_count": 21,
   "metadata": {},
   "outputs": [
    {
     "name": "stdout",
     "output_type": "stream",
     "text": [
      "x=12\n"
     ]
    }
   ],
   "source": [
    "# x の値を色々変えて実行してみましょう\n",
    "\n",
    "x = 12\n",
    "if not x:\n",
    "    print(f'{x=}'):\n",
    "    print('even%\n",
    "else:\n",
    "    print(f'{x=}')"
   ]
  },
  {
   "cell_type": "code",
   "execution_count": 19,
   "metadata": {},
   "outputs": [
    {
     "name": "stdout",
     "output_type": "stream",
     "text": [
      "x=4, y=7\n"
     ]
    }
   ],
   "source": [
    "x, y = 4, 7\n",
    "if x and not y:\n",
    "    print(f'{x=}, {y=}')\n",
    "else:\n",
    "    print(f'{x=}, {y=}')"
   ]
  },
  {
   "cell_type": "code",
   "execution_count": 44,
   "metadata": {},
   "outputs": [
    {
     "name": "stdout",
     "output_type": "stream",
     "text": [
      "odd\n",
      "even\n"
     ]
    }
   ],
   "source": [
    "# 整数を1つ入力します。その整数が偶数だったら even 奇数だったらodd と出力してください\n",
    "x = 23\n",
    "if x % 2 == 0:\n",
    "    print('even')\n",
    "elif x % 2 == 1:\n",
    "    print('odd')\n",
    "    \n",
    "y = 24\n",
    "if y % 2 == 0:\n",
    "    print('even')\n",
    "else :\n",
    "    print('odd')"
   ]
  },
  {
   "cell_type": "markdown",
   "metadata": {},
   "source": [
    "match 3.10からの新機能です\n",
    "elifが並ぶときに、簡潔にかけます"
   ]
  },
  {
   "cell_type": "markdown",
   "metadata": {},
   "source": [
    "Pythonで繰り返しを実現するためには主に2つの方法があります。1つはwhile文です。構文は\n",
    "```python\n",
    "while 条件式:\n",
    "    処理\n",
    "```\n",
    "です。条件式を繰り返し評価し、Trueの間処理を実行します。次に紹介するforに比べて、**回数が決まっていないとき**に使いやすい構文です。whileもif同様に**処理**の一部として用いることができます。"
   ]
  },
  {
   "cell_type": "code",
   "execution_count": 24,
   "metadata": {},
   "outputs": [
    {
     "name": "stdout",
     "output_type": "stream",
     "text": [
      "こんにちは\n"
     ]
    }
   ],
   "source": [
    "# whileの例 これはbreakを消すと無限ループになります\n",
    "while True:\n",
    "    print(\"こんにちは\")\n",
    "    break"
   ]
  },
  {
   "cell_type": "code",
   "execution_count": 25,
   "metadata": {},
   "outputs": [
    {
     "name": "stdout",
     "output_type": "stream",
     "text": [
      "0\n",
      "1\n",
      "2\n",
      "3\n",
      "4\n",
      "5\n",
      "6\n",
      "7\n",
      "8\n",
      "9\n"
     ]
    }
   ],
   "source": [
    "# whileの例\n",
    "i = 0\n",
    "while i < 10:\n",
    "    print(i)\n",
    "    i += 1"
   ]
  },
  {
   "cell_type": "markdown",
   "metadata": {},
   "source": [
    "もう1つはfor文です。文字列やリストなど、反復可能なオブジェクト(iterable object, イテラブル) の要素を前から処理するために使われます。構文は、\n",
    "\n",
    "```python\n",
    "for 要素 in イテラブルオブジェクト:\n",
    "    処理\n",
    "```\n",
    "\n",
    "です。ここで、`range` という連番生成用の関数を用いた例を示します。"
   ]
  },
  {
   "cell_type": "code",
   "execution_count": 26,
   "metadata": {},
   "outputs": [
    {
     "name": "stdout",
     "output_type": "stream",
     "text": [
      "0\n",
      "1\n",
      "2\n",
      "3\n",
      "4\n",
      "5\n",
      "6\n",
      "7\n",
      "8\n",
      "9\n"
     ]
    }
   ],
   "source": [
    "for i in range(10):\n",
    "    print(i)"
   ]
  },
  {
   "cell_type": "code",
   "execution_count": 27,
   "metadata": {},
   "outputs": [
    {
     "name": "stdout",
     "output_type": "stream",
     "text": [
      "[8, 1, 6]\n",
      "[3, 5, 7]\n",
      "[4, 9, 2]\n"
     ]
    }
   ],
   "source": [
    "# これは1章で登場した2次元リストを出力する例です\n",
    "\n",
    "mahoujin = [[8, 1, 6], [3, 5 ,7], [4, 9, 2]]\n",
    "for item in mahoujin:\n",
    "    print(item)"
   ]
  },
  {
   "cell_type": "code",
   "execution_count": 28,
   "metadata": {},
   "outputs": [
    {
     "name": "stdout",
     "output_type": "stream",
     "text": [
      "0\n",
      "1\n",
      "2\n",
      "3\n",
      "4\n",
      "5\n",
      "6\n",
      "7\n",
      "8\n",
      "9\n",
      "10\n"
     ]
    }
   ],
   "source": [
    "# Pythonで無限ループする方法\n",
    "from itertools import count\n",
    "for i in count():\n",
    "    print(i)\n",
    "    if i == 10:\n",
    "        break # ループを終了するキーワードです"
   ]
  },
  {
   "cell_type": "markdown",
   "metadata": {},
   "source": [
    "## 演習 FizzBuzz\n",
    "FizzBuzzという有名な問題があります\n",
    "ある整数 $n$ について、  \n",
    "$n$ が $3$ で割り切れたら、$Fizz$ を  \n",
    "$n$ が $5$ で割り切れたら、$Buzz$ を  \n",
    "$n$ が $3$ と $5$で割り切れたら、$FizzBuzz$ を  \n",
    "$n$ が いずれもで割り切れない場合 $n$ をそのまま出力してください。  \n",
    "\n",
    "1. `fizz_buzz(n: int) -> str ` なる関数を定義してください\n",
    "2. 1.で定義した関数の結果を1から30まで繰り返し表示してください"
   ]
  },
  {
   "cell_type": "code",
   "execution_count": 13,
   "metadata": {},
   "outputs": [],
   "source": [
    "# 1.\n",
    "def fizz_buzz(n:int) -> str:\n",
    "    if n % 3 == 0:\n",
    "        return 'Fizz'\n",
    "    if n % 5 == 0:\n",
    "        return 'Buzz'\n",
    "    elif n % 3 == 0 and n % 5 == 0:\n",
    "        return 'FizzBuzz'\n",
    "    else :\n",
    "        return n"
   ]
  },
  {
   "cell_type": "code",
   "execution_count": 14,
   "metadata": {},
   "outputs": [
    {
     "name": "stdout",
     "output_type": "stream",
     "text": [
      "1\n",
      "2\n",
      "Fizz\n",
      "4\n",
      "Buzz\n",
      "Fizz\n",
      "7\n",
      "8\n",
      "Fizz\n",
      "Buzz\n",
      "11\n",
      "Fizz\n",
      "13\n",
      "14\n",
      "Fizz\n",
      "16\n",
      "17\n",
      "Fizz\n",
      "19\n",
      "Buzz\n",
      "Fizz\n",
      "22\n",
      "23\n",
      "Fizz\n",
      "Buzz\n",
      "26\n",
      "Fizz\n",
      "28\n",
      "29\n",
      "Fizz\n"
     ]
    }
   ],
   "source": [
    "# 2.\n",
    "# 1.で定義していれば、セルをまたいで関数を呼び出すことができます\n",
    "n = 1\n",
    "while n <= 30:\n",
    "    print(fizz_buzz(n))\n",
    "    n += 1"
   ]
  },
  {
   "cell_type": "code",
   "execution_count": null,
   "metadata": {},
   "outputs": [],
   "source": []
  }
 ],
 "metadata": {
  "kernelspec": {
   "display_name": "Python 3",
   "language": "python",
   "name": "python3"
  },
  "language_info": {
   "codemirror_mode": {
    "name": "ipython",
    "version": 3
   },
   "file_extension": ".py",
   "mimetype": "text/x-python",
   "name": "python",
   "nbconvert_exporter": "python",
   "pygments_lexer": "ipython3",
   "version": "3.9.1"
  }
 },
 "nbformat": 4,
 "nbformat_minor": 4
}
